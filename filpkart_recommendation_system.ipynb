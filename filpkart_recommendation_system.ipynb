{
  "nbformat": 4,
  "nbformat_minor": 0,
  "metadata": {
    "colab": {
      "name": "filpkart_recommendation system.ipynb",
      "version": "0.3.2",
      "provenance": [],
      "collapsed_sections": [],
      "include_colab_link": true
    },
    "kernelspec": {
      "name": "python3",
      "display_name": "Python 3"
    }
  },
  "cells": [
    {
      "cell_type": "markdown",
      "metadata": {
        "id": "view-in-github",
        "colab_type": "text"
      },
      "source": [
        "<a href=\"https://colab.research.google.com/github/mnaveen2222/visualization-python-/blob/master/filpkart_recommendation_system.ipynb\" target=\"_parent\"><img src=\"https://colab.research.google.com/assets/colab-badge.svg\" alt=\"Open In Colab\"/></a>"
      ]
    },
    {
      "metadata": {
        "id": "q0xx750J3W4t",
        "colab_type": "code",
        "colab": {}
      },
      "cell_type": "code",
      "source": [
        "import pandas as pd"
      ],
      "execution_count": 0,
      "outputs": []
    },
    {
      "metadata": {
        "id": "8BmQTHQQ5kPC",
        "colab_type": "code",
        "colab": {}
      },
      "cell_type": "code",
      "source": [
        "data=pd.read_csv('flipkart_com-ecommerce_sample.csv')"
      ],
      "execution_count": 0,
      "outputs": []
    },
    {
      "metadata": {
        "id": "KP8yyHB45pDd",
        "colab_type": "code",
        "outputId": "527742fa-6bcc-4983-b694-424a58508534",
        "colab": {
          "base_uri": "https://localhost:8080/",
          "height": 315
        }
      },
      "cell_type": "code",
      "source": [
        "data.columns\n",
        "data.head(3)"
      ],
      "execution_count": 6,
      "outputs": [
        {
          "output_type": "execute_result",
          "data": {
            "text/html": [
              "<div>\n",
              "<style scoped>\n",
              "    .dataframe tbody tr th:only-of-type {\n",
              "        vertical-align: middle;\n",
              "    }\n",
              "\n",
              "    .dataframe tbody tr th {\n",
              "        vertical-align: top;\n",
              "    }\n",
              "\n",
              "    .dataframe thead th {\n",
              "        text-align: right;\n",
              "    }\n",
              "</style>\n",
              "<table border=\"1\" class=\"dataframe\">\n",
              "  <thead>\n",
              "    <tr style=\"text-align: right;\">\n",
              "      <th></th>\n",
              "      <th>uniq_id</th>\n",
              "      <th>crawl_timestamp</th>\n",
              "      <th>product_url</th>\n",
              "      <th>product_name</th>\n",
              "      <th>product_category_tree</th>\n",
              "      <th>pid</th>\n",
              "      <th>retail_price</th>\n",
              "      <th>discounted_price</th>\n",
              "      <th>image</th>\n",
              "      <th>is_FK_Advantage_product</th>\n",
              "      <th>description</th>\n",
              "      <th>product_rating</th>\n",
              "      <th>overall_rating</th>\n",
              "      <th>brand</th>\n",
              "      <th>product_specifications</th>\n",
              "    </tr>\n",
              "  </thead>\n",
              "  <tbody>\n",
              "    <tr>\n",
              "      <th>0</th>\n",
              "      <td>c2d766ca982eca8304150849735ffef9</td>\n",
              "      <td>2016-03-25 22:59:23 +0000</td>\n",
              "      <td>http://www.flipkart.com/alisha-solid-women-s-c...</td>\n",
              "      <td>Alisha Solid Women's Cycling Shorts</td>\n",
              "      <td>[\"Clothing &gt;&gt; Women's Clothing &gt;&gt; Lingerie, Sl...</td>\n",
              "      <td>SRTEH2FF9KEDEFGF</td>\n",
              "      <td>999.0</td>\n",
              "      <td>379.0</td>\n",
              "      <td>[\"http://img5a.flixcart.com/image/short/u/4/a/...</td>\n",
              "      <td>False</td>\n",
              "      <td>Key Features of Alisha Solid Women's Cycling S...</td>\n",
              "      <td>No rating available</td>\n",
              "      <td>No rating available</td>\n",
              "      <td>Alisha</td>\n",
              "      <td>{\"product_specification\"=&gt;[{\"key\"=&gt;\"Number of ...</td>\n",
              "    </tr>\n",
              "    <tr>\n",
              "      <th>1</th>\n",
              "      <td>7f7036a6d550aaa89d34c77bd39a5e48</td>\n",
              "      <td>2016-03-25 22:59:23 +0000</td>\n",
              "      <td>http://www.flipkart.com/fabhomedecor-fabric-do...</td>\n",
              "      <td>FabHomeDecor Fabric Double Sofa Bed</td>\n",
              "      <td>[\"Furniture &gt;&gt; Living Room Furniture &gt;&gt; Sofa B...</td>\n",
              "      <td>SBEEH3QGU7MFYJFY</td>\n",
              "      <td>32157.0</td>\n",
              "      <td>22646.0</td>\n",
              "      <td>[\"http://img6a.flixcart.com/image/sofa-bed/j/f...</td>\n",
              "      <td>False</td>\n",
              "      <td>FabHomeDecor Fabric Double Sofa Bed (Finish Co...</td>\n",
              "      <td>No rating available</td>\n",
              "      <td>No rating available</td>\n",
              "      <td>FabHomeDecor</td>\n",
              "      <td>{\"product_specification\"=&gt;[{\"key\"=&gt;\"Installati...</td>\n",
              "    </tr>\n",
              "    <tr>\n",
              "      <th>2</th>\n",
              "      <td>f449ec65dcbc041b6ae5e6a32717d01b</td>\n",
              "      <td>2016-03-25 22:59:23 +0000</td>\n",
              "      <td>http://www.flipkart.com/aw-bellies/p/itmeh4grg...</td>\n",
              "      <td>AW Bellies</td>\n",
              "      <td>[\"Footwear &gt;&gt; Women's Footwear &gt;&gt; Ballerinas &gt;...</td>\n",
              "      <td>SHOEH4GRSUBJGZXE</td>\n",
              "      <td>999.0</td>\n",
              "      <td>499.0</td>\n",
              "      <td>[\"http://img5a.flixcart.com/image/shoe/7/z/z/r...</td>\n",
              "      <td>False</td>\n",
              "      <td>Key Features of AW Bellies Sandals Wedges Heel...</td>\n",
              "      <td>No rating available</td>\n",
              "      <td>No rating available</td>\n",
              "      <td>AW</td>\n",
              "      <td>{\"product_specification\"=&gt;[{\"key\"=&gt;\"Ideal For\"...</td>\n",
              "    </tr>\n",
              "  </tbody>\n",
              "</table>\n",
              "</div>"
            ],
            "text/plain": [
              "                            uniq_id            crawl_timestamp  \\\n",
              "0  c2d766ca982eca8304150849735ffef9  2016-03-25 22:59:23 +0000   \n",
              "1  7f7036a6d550aaa89d34c77bd39a5e48  2016-03-25 22:59:23 +0000   \n",
              "2  f449ec65dcbc041b6ae5e6a32717d01b  2016-03-25 22:59:23 +0000   \n",
              "\n",
              "                                         product_url  \\\n",
              "0  http://www.flipkart.com/alisha-solid-women-s-c...   \n",
              "1  http://www.flipkart.com/fabhomedecor-fabric-do...   \n",
              "2  http://www.flipkart.com/aw-bellies/p/itmeh4grg...   \n",
              "\n",
              "                          product_name  \\\n",
              "0  Alisha Solid Women's Cycling Shorts   \n",
              "1  FabHomeDecor Fabric Double Sofa Bed   \n",
              "2                           AW Bellies   \n",
              "\n",
              "                               product_category_tree               pid  \\\n",
              "0  [\"Clothing >> Women's Clothing >> Lingerie, Sl...  SRTEH2FF9KEDEFGF   \n",
              "1  [\"Furniture >> Living Room Furniture >> Sofa B...  SBEEH3QGU7MFYJFY   \n",
              "2  [\"Footwear >> Women's Footwear >> Ballerinas >...  SHOEH4GRSUBJGZXE   \n",
              "\n",
              "   retail_price  discounted_price  \\\n",
              "0         999.0             379.0   \n",
              "1       32157.0           22646.0   \n",
              "2         999.0             499.0   \n",
              "\n",
              "                                               image  is_FK_Advantage_product  \\\n",
              "0  [\"http://img5a.flixcart.com/image/short/u/4/a/...                    False   \n",
              "1  [\"http://img6a.flixcart.com/image/sofa-bed/j/f...                    False   \n",
              "2  [\"http://img5a.flixcart.com/image/shoe/7/z/z/r...                    False   \n",
              "\n",
              "                                         description       product_rating  \\\n",
              "0  Key Features of Alisha Solid Women's Cycling S...  No rating available   \n",
              "1  FabHomeDecor Fabric Double Sofa Bed (Finish Co...  No rating available   \n",
              "2  Key Features of AW Bellies Sandals Wedges Heel...  No rating available   \n",
              "\n",
              "        overall_rating         brand  \\\n",
              "0  No rating available        Alisha   \n",
              "1  No rating available  FabHomeDecor   \n",
              "2  No rating available            AW   \n",
              "\n",
              "                              product_specifications  \n",
              "0  {\"product_specification\"=>[{\"key\"=>\"Number of ...  \n",
              "1  {\"product_specification\"=>[{\"key\"=>\"Installati...  \n",
              "2  {\"product_specification\"=>[{\"key\"=>\"Ideal For\"...  "
            ]
          },
          "metadata": {
            "tags": []
          },
          "execution_count": 6
        }
      ]
    },
    {
      "metadata": {
        "id": "jg47zHP-5qh5",
        "colab_type": "code",
        "colab": {}
      },
      "cell_type": "code",
      "source": [
        "smd=data[['product_name','product_category_tree','description','brand','product_specifications']]"
      ],
      "execution_count": 0,
      "outputs": []
    },
    {
      "metadata": {
        "id": "w8lPFIDmPpjl",
        "colab_type": "code",
        "outputId": "c8e70d42-f60f-4b88-8316-4d5098f72765",
        "colab": {
          "base_uri": "https://localhost:8080/",
          "height": 119
        }
      },
      "cell_type": "code",
      "source": [
        "smd['product_category_tree'].head()"
      ],
      "execution_count": 24,
      "outputs": [
        {
          "output_type": "execute_result",
          "data": {
            "text/plain": [
              "0    [\"Clothing >> Women's Clothing >> Lingerie, Sl...\n",
              "1    [\"Furniture >> Living Room Furniture >> Sofa B...\n",
              "2    [\"Footwear >> Women's Footwear >> Ballerinas >...\n",
              "3    [\"Clothing >> Women's Clothing >> Lingerie, Sl...\n",
              "4    [\"Pet Supplies >> Grooming >> Skin & Coat Care...\n",
              "Name: product_category_tree, dtype: object"
            ]
          },
          "metadata": {
            "tags": []
          },
          "execution_count": 24
        }
      ]
    },
    {
      "metadata": {
        "id": "2Vn_0o9X6HSv",
        "colab_type": "code",
        "outputId": "5ccbec0e-41da-41b1-cccc-9194d0c5d60f",
        "colab": {
          "base_uri": "https://localhost:8080/",
          "height": 102
        }
      },
      "cell_type": "code",
      "source": [
        "smd.fillna('',inplace=True)"
      ],
      "execution_count": 25,
      "outputs": [
        {
          "output_type": "stream",
          "text": [
            "/usr/local/lib/python3.6/dist-packages/pandas/core/frame.py:3035: SettingWithCopyWarning: \n",
            "A value is trying to be set on a copy of a slice from a DataFrame\n",
            "\n",
            "See the caveats in the documentation: http://pandas.pydata.org/pandas-docs/stable/indexing.html#indexing-view-versus-copy\n",
            "  downcast=downcast, **kwargs)\n"
          ],
          "name": "stderr"
        }
      ]
    },
    {
      "metadata": {
        "id": "2iNpKLYB6LMO",
        "colab_type": "code",
        "outputId": "f0fdf560-271d-432e-f997-fdfa74c0e72d",
        "colab": {
          "base_uri": "https://localhost:8080/",
          "height": 119
        }
      },
      "cell_type": "code",
      "source": [
        "smd.isna().sum()"
      ],
      "execution_count": 26,
      "outputs": [
        {
          "output_type": "execute_result",
          "data": {
            "text/plain": [
              "product_name              0\n",
              "product_category_tree     0\n",
              "description               0\n",
              "brand                     0\n",
              "product_specifications    0\n",
              "dtype: int64"
            ]
          },
          "metadata": {
            "tags": []
          },
          "execution_count": 26
        }
      ]
    },
    {
      "metadata": {
        "id": "tyWPSTQe6OCm",
        "colab_type": "code",
        "outputId": "dfe9bcda-3fa0-4aee-87a0-13e5657eb2f9",
        "colab": {
          "base_uri": "https://localhost:8080/",
          "height": 119
        }
      },
      "cell_type": "code",
      "source": [
        "smd['description']=smd['product_name']+','+smd['product_category_tree']+','+smd['description']+','+smd['brand']+','+smd['product_specifications']"
      ],
      "execution_count": 27,
      "outputs": [
        {
          "output_type": "stream",
          "text": [
            "/usr/local/lib/python3.6/dist-packages/ipykernel_launcher.py:1: SettingWithCopyWarning: \n",
            "A value is trying to be set on a copy of a slice from a DataFrame.\n",
            "Try using .loc[row_indexer,col_indexer] = value instead\n",
            "\n",
            "See the caveats in the documentation: http://pandas.pydata.org/pandas-docs/stable/indexing.html#indexing-view-versus-copy\n",
            "  \"\"\"Entry point for launching an IPython kernel.\n"
          ],
          "name": "stderr"
        }
      ]
    },
    {
      "metadata": {
        "id": "9kehf8ol605p",
        "colab_type": "code",
        "outputId": "975498d1-aaac-4fda-f916-3746bbf2aa0c",
        "colab": {
          "base_uri": "https://localhost:8080/",
          "height": 54
        }
      },
      "cell_type": "code",
      "source": [
        "smd['description'][0]"
      ],
      "execution_count": 28,
      "outputs": [
        {
          "output_type": "execute_result",
          "data": {
            "text/plain": [
              "'Alisha Solid Women\\'s Cycling Shorts,[\"Clothing >> Women\\'s Clothing >> Lingerie, Sleep & Swimwear >> Shorts >> Alisha Shorts >> Alisha Solid Women\\'s Cycling Shorts\"],Key Features of Alisha Solid Women\\'s Cycling Shorts Cotton Lycra Navy, Red, Navy,Specifications of Alisha Solid Women\\'s Cycling Shorts Shorts Details Number of Contents in Sales Package Pack of 3 Fabric Cotton Lycra Type Cycling Shorts General Details Pattern Solid Ideal For Women\\'s Fabric Care Gentle Machine Wash in Lukewarm Water, Do Not Bleach Additional Details Style Code ALTHT_3P_21 In the Box 3 shorts,Alisha,{\"product_specification\"=>[{\"key\"=>\"Number of Contents in Sales Package\", \"value\"=>\"Pack of 3\"}, {\"key\"=>\"Fabric\", \"value\"=>\"Cotton Lycra\"}, {\"key\"=>\"Type\", \"value\"=>\"Cycling Shorts\"}, {\"key\"=>\"Pattern\", \"value\"=>\"Solid\"}, {\"key\"=>\"Ideal For\", \"value\"=>\"Women\\'s\"}, {\"value\"=>\"Gentle Machine Wash in Lukewarm Water, Do Not Bleach\"}, {\"key\"=>\"Style Code\", \"value\"=>\"ALTHT_3P_21\"}, {\"value\"=>\"3 shorts\"}]}'"
            ]
          },
          "metadata": {
            "tags": []
          },
          "execution_count": 28
        }
      ]
    },
    {
      "metadata": {
        "id": "RV0_QH4p63Of",
        "colab_type": "code",
        "colab": {}
      },
      "cell_type": "code",
      "source": [
        "import numpy as np\n",
        "import matplotlib.pyplot as plt\n",
        "import seaborn as sns\n",
        "from scipy import stats\n",
        "from ast import literal_eval\n",
        "from sklearn.feature_extraction.text import TfidfVectorizer, CountVectorizer\n",
        "from sklearn.metrics.pairwise import linear_kernel, cosine_similarity\n",
        "from nltk.stem.snowball import SnowballStemmer\n",
        "from nltk.stem.wordnet import WordNetLemmatizer\n",
        "from nltk.corpus import wordnet"
      ],
      "execution_count": 0,
      "outputs": []
    },
    {
      "metadata": {
        "id": "mngb-gpL7FeY",
        "colab_type": "code",
        "colab": {}
      },
      "cell_type": "code",
      "source": [
        "tf = TfidfVectorizer(analyzer='word',ngram_range=(1, 2),min_df=0, stop_words='english')\n",
        "tfidf_matrix = tf.fit_transform(smd['description'])"
      ],
      "execution_count": 0,
      "outputs": []
    },
    {
      "metadata": {
        "id": "-bDTbQKL7SY6",
        "colab_type": "code",
        "outputId": "a4476460-0eb0-45b6-a3f5-d41f9aafe4a1",
        "colab": {
          "base_uri": "https://localhost:8080/",
          "height": 34
        }
      },
      "cell_type": "code",
      "source": [
        "tfidf_matrix.shape"
      ],
      "execution_count": 15,
      "outputs": [
        {
          "output_type": "execute_result",
          "data": {
            "text/plain": [
              "(20000, 274543)"
            ]
          },
          "metadata": {
            "tags": []
          },
          "execution_count": 15
        }
      ]
    },
    {
      "metadata": {
        "id": "fabdzIV67XOQ",
        "colab_type": "code",
        "colab": {}
      },
      "cell_type": "code",
      "source": [
        "cosine_sim = linear_kernel(tfidf_matrix, tfidf_matrix)"
      ],
      "execution_count": 0,
      "outputs": []
    },
    {
      "metadata": {
        "id": "dXJWc7Dp7hKe",
        "colab_type": "code",
        "outputId": "7a5a696e-7747-49da-e781-eecd8eee28de",
        "colab": {
          "base_uri": "https://localhost:8080/",
          "height": 51
        }
      },
      "cell_type": "code",
      "source": [
        "cosine_sim[0]"
      ],
      "execution_count": 17,
      "outputs": [
        {
          "output_type": "execute_result",
          "data": {
            "text/plain": [
              "array([1.        , 0.01447346, 0.02478197, ..., 0.02055218, 0.01968267,\n",
              "       0.0195465 ])"
            ]
          },
          "metadata": {
            "tags": []
          },
          "execution_count": 17
        }
      ]
    },
    {
      "metadata": {
        "id": "QBOqQ-etcUNX",
        "colab_type": "code",
        "colab": {
          "base_uri": "https://localhost:8080/",
          "height": 119
        },
        "outputId": "6f72e586-8b6a-4245-8572-e0228f0e9058"
      },
      "cell_type": "code",
      "source": [
        "smd.product_name=smd.product_name.transform(lambda x:x.replace(' ','_'))"
      ],
      "execution_count": 29,
      "outputs": [
        {
          "output_type": "stream",
          "text": [
            "/usr/local/lib/python3.6/dist-packages/pandas/core/generic.py:3643: SettingWithCopyWarning: \n",
            "A value is trying to be set on a copy of a slice from a DataFrame.\n",
            "Try using .loc[row_indexer,col_indexer] = value instead\n",
            "\n",
            "See the caveats in the documentation: http://pandas.pydata.org/pandas-docs/stable/indexing.html#indexing-view-versus-copy\n",
            "  self[name] = value\n"
          ],
          "name": "stderr"
        }
      ]
    },
    {
      "metadata": {
        "id": "mvuAh85OB2bS",
        "colab_type": "code",
        "colab": {
          "base_uri": "https://localhost:8080/",
          "height": 119
        },
        "outputId": "816a43a3-7960-49f7-e59e-4dfbedde26ba"
      },
      "cell_type": "code",
      "source": [
        "smd.product_name=smd.product_name.transform(lambda x:x.replace(\"'\",\"_\"))"
      ],
      "execution_count": 30,
      "outputs": [
        {
          "output_type": "stream",
          "text": [
            "/usr/local/lib/python3.6/dist-packages/pandas/core/generic.py:3643: SettingWithCopyWarning: \n",
            "A value is trying to be set on a copy of a slice from a DataFrame.\n",
            "Try using .loc[row_indexer,col_indexer] = value instead\n",
            "\n",
            "See the caveats in the documentation: http://pandas.pydata.org/pandas-docs/stable/indexing.html#indexing-view-versus-copy\n",
            "  self[name] = value\n"
          ],
          "name": "stderr"
        }
      ]
    },
    {
      "metadata": {
        "id": "4SIsRGOoB_tz",
        "colab_type": "code",
        "colab": {
          "base_uri": "https://localhost:8080/",
          "height": 119
        },
        "outputId": "b78b635f-4dae-4af4-f150-5dd9f6f9ecfb"
      },
      "cell_type": "code",
      "source": [
        "smd.product_name.head()"
      ],
      "execution_count": 31,
      "outputs": [
        {
          "output_type": "execute_result",
          "data": {
            "text/plain": [
              "0      Alisha_Solid_Women_s_Cycling_Shorts\n",
              "1      FabHomeDecor_Fabric_Double_Sofa_Bed\n",
              "2                               AW_Bellies\n",
              "3      Alisha_Solid_Women_s_Cycling_Shorts\n",
              "4    Sicons_All_Purpose_Arnica_Dog_Shampoo\n",
              "Name: product_name, dtype: object"
            ]
          },
          "metadata": {
            "tags": []
          },
          "execution_count": 31
        }
      ]
    },
    {
      "metadata": {
        "id": "jfodedWh0NXA",
        "colab_type": "code",
        "colab": {}
      },
      "cell_type": "code",
      "source": [
        "smd.index=smd['product_name']"
      ],
      "execution_count": 0,
      "outputs": []
    },
    {
      "metadata": {
        "id": "2aibn3ob0Jzr",
        "colab_type": "code",
        "outputId": "b214bca1-1747-4029-97a6-6adb58a99f3e",
        "colab": {
          "base_uri": "https://localhost:8080/",
          "height": 374
        }
      },
      "cell_type": "code",
      "source": [
        "indices = pd.Series(smd.index)\n",
        "indices[:20]"
      ],
      "execution_count": 33,
      "outputs": [
        {
          "output_type": "execute_result",
          "data": {
            "text/plain": [
              "0                   Alisha_Solid_Women_s_Cycling_Shorts\n",
              "1                   FabHomeDecor_Fabric_Double_Sofa_Bed\n",
              "2                                            AW_Bellies\n",
              "3                   Alisha_Solid_Women_s_Cycling_Shorts\n",
              "4                 Sicons_All_Purpose_Arnica_Dog_Shampoo\n",
              "5     Eternal_Gandhi_Super_Series_Crystal_Paper_Weig...\n",
              "6                   Alisha_Solid_Women_s_Cycling_Shorts\n",
              "7                   FabHomeDecor_Fabric_Double_Sofa_Bed\n",
              "8     dilli_bazaaar_Bellies,_Corporate_Casuals,_Casuals\n",
              "9                   Alisha_Solid_Women_s_Cycling_Shorts\n",
              "10                                       Ladela_Bellies\n",
              "11                               Carrel_Printed_Women_s\n",
              "12              Sicons_All_Purpose_Tea_Tree_Dog_Shampoo\n",
              "13                  Alisha_Solid_Women_s_Cycling_Shorts\n",
              "14               Freelance_Vacuum_Bottles_350_ml_Bottle\n",
              "15                  Alisha_Solid_Women_s_Cycling_Shorts\n",
              "16                  FabHomeDecor_Fabric_Double_Sofa_Bed\n",
              "17                                   Style_Foot_Bellies\n",
              "18                               Carrel_Printed_Women_s\n",
              "19                  FabHomeDecor_Fabric_Double_Sofa_Bed\n",
              "Name: product_name, dtype: object"
            ]
          },
          "metadata": {
            "tags": []
          },
          "execution_count": 33
        }
      ]
    },
    {
      "metadata": {
        "id": "BRVnVb0T-c8F",
        "colab_type": "code",
        "colab": {}
      },
      "cell_type": "code",
      "source": [
        ""
      ],
      "execution_count": 0,
      "outputs": []
    },
    {
      "metadata": {
        "id": "Vr0bhxk2uAO1",
        "colab_type": "code",
        "colab": {}
      },
      "cell_type": "code",
      "source": [
        "indices = pd.Series(smd.index)\n",
        "\n",
        "#  defining the function that takes in movie title \n",
        "# as input and returns the top 10 recommended movies\n",
        "def recommendations(title, cosine_sim = cosine_sim):\n",
        "    \n",
        "    # initializing the empty list of recommended movies\n",
        "    recommended_item = []\n",
        "    \n",
        "    # gettin the index of the movie that matches the title\n",
        "    idx = indices[indices == title].index[0]\n",
        "\n",
        "    # creating a Series with the similarity scores in descending order\n",
        "    score_series = pd.Series(cosine_sim[idx]).sort_values(ascending = False)\n",
        "\n",
        "    # getting the indexes of the 10 most similar movies\n",
        "    top_10_indexes = list(score_series.iloc[1:11].index)\n",
        "    \n",
        "    # populating the list with the titles of the best 10 matching movies\n",
        "    for i in top_10_indexes:\n",
        "        recommended_item.append(list(smd.index)[i])\n",
        "    d_item=np.unique(recommended_item) \n",
        "    dd=smd.loc[d_item][['product_name','product_category_tree','description','brand']]\n",
        "    dd_1=dd[~(dd.product_name.duplicated(keep = False))]\n",
        "   \n",
        "    return dd_1[['product_category_tree','description','brand']]"
      ],
      "execution_count": 0,
      "outputs": []
    },
    {
      "metadata": {
        "id": "w6I3nxH_v1uB",
        "colab_type": "code",
        "outputId": "215543bb-5025-435a-d9e3-300112bae625",
        "colab": {
          "base_uri": "https://localhost:8080/",
          "height": 272
        }
      },
      "cell_type": "code",
      "source": [
        "recommendations('AW_Bellies')"
      ],
      "execution_count": 35,
      "outputs": [
        {
          "output_type": "execute_result",
          "data": {
            "text/html": [
              "<div>\n",
              "<style scoped>\n",
              "    .dataframe tbody tr th:only-of-type {\n",
              "        vertical-align: middle;\n",
              "    }\n",
              "\n",
              "    .dataframe tbody tr th {\n",
              "        vertical-align: top;\n",
              "    }\n",
              "\n",
              "    .dataframe thead th {\n",
              "        text-align: right;\n",
              "    }\n",
              "</style>\n",
              "<table border=\"1\" class=\"dataframe\">\n",
              "  <thead>\n",
              "    <tr style=\"text-align: right;\">\n",
              "      <th></th>\n",
              "      <th>product_category_tree</th>\n",
              "      <th>description</th>\n",
              "      <th>brand</th>\n",
              "    </tr>\n",
              "    <tr>\n",
              "      <th>product_name</th>\n",
              "      <th></th>\n",
              "      <th></th>\n",
              "      <th></th>\n",
              "    </tr>\n",
              "  </thead>\n",
              "  <tbody>\n",
              "    <tr>\n",
              "      <th>Awssm_Women_Flats</th>\n",
              "      <td>[\"Footwear &gt;&gt; Women's Footwear &gt;&gt; Flats\"]</td>\n",
              "      <td>Awssm Women Flats,[\"Footwear &gt;&gt; Women's Footwe...</td>\n",
              "      <td></td>\n",
              "    </tr>\n",
              "    <tr>\n",
              "      <th>Glitzy_Galz_Women_Heels</th>\n",
              "      <td>[\"Footwear &gt;&gt; Women's Footwear &gt;&gt; Heels &gt;&gt; Gli...</td>\n",
              "      <td>Glitzy Galz Women Heels,[\"Footwear &gt;&gt; Women's ...</td>\n",
              "      <td>Glitzy Galz</td>\n",
              "    </tr>\n",
              "    <tr>\n",
              "      <th>Shopnetix_Stylish_&amp;_Comfort_Men_s_Lace_up_Mocassins_(SNX-4449)_Casuals</th>\n",
              "      <td>[\"Footwear &gt;&gt; Kids' &amp; Infant Footwear &gt;&gt; For B...</td>\n",
              "      <td>Shopnetix Stylish &amp; Comfort Men's Lace up Moca...</td>\n",
              "      <td>Shopnetix</td>\n",
              "    </tr>\n",
              "    <tr>\n",
              "      <th>Sonaxo_Men_Running_Shoes</th>\n",
              "      <td>[\"Sonaxo Men Running Shoes\"]</td>\n",
              "      <td>Sonaxo Men Running Shoes,[\"Sonaxo Men Running ...</td>\n",
              "      <td>Sonaxo</td>\n",
              "    </tr>\n",
              "  </tbody>\n",
              "</table>\n",
              "</div>"
            ],
            "text/plain": [
              "                                                                                product_category_tree  \\\n",
              "product_name                                                                                            \n",
              "Awssm_Women_Flats                                           [\"Footwear >> Women's Footwear >> Flats\"]   \n",
              "Glitzy_Galz_Women_Heels                             [\"Footwear >> Women's Footwear >> Heels >> Gli...   \n",
              "Shopnetix_Stylish_&_Comfort_Men_s_Lace_up_Mocas...  [\"Footwear >> Kids' & Infant Footwear >> For B...   \n",
              "Sonaxo_Men_Running_Shoes                                                 [\"Sonaxo Men Running Shoes\"]   \n",
              "\n",
              "                                                                                          description  \\\n",
              "product_name                                                                                            \n",
              "Awssm_Women_Flats                                   Awssm Women Flats,[\"Footwear >> Women's Footwe...   \n",
              "Glitzy_Galz_Women_Heels                             Glitzy Galz Women Heels,[\"Footwear >> Women's ...   \n",
              "Shopnetix_Stylish_&_Comfort_Men_s_Lace_up_Mocas...  Shopnetix Stylish & Comfort Men's Lace up Moca...   \n",
              "Sonaxo_Men_Running_Shoes                            Sonaxo Men Running Shoes,[\"Sonaxo Men Running ...   \n",
              "\n",
              "                                                          brand  \n",
              "product_name                                                     \n",
              "Awssm_Women_Flats                                                \n",
              "Glitzy_Galz_Women_Heels                             Glitzy Galz  \n",
              "Shopnetix_Stylish_&_Comfort_Men_s_Lace_up_Mocas...    Shopnetix  \n",
              "Sonaxo_Men_Running_Shoes                                 Sonaxo  "
            ]
          },
          "metadata": {
            "tags": []
          },
          "execution_count": 35
        }
      ]
    },
    {
      "metadata": {
        "id": "P1xXIYvB7DRT",
        "colab_type": "code",
        "colab": {
          "base_uri": "https://localhost:8080/",
          "height": 266
        },
        "outputId": "e181ce22-9c26-4bde-dbf5-7ab05b21b64b"
      },
      "cell_type": "code",
      "source": [
        "recommendations('Sicons_All_Purpose_Arnica_Dog_Shampoo')"
      ],
      "execution_count": 36,
      "outputs": [
        {
          "output_type": "execute_result",
          "data": {
            "text/html": [
              "<div>\n",
              "<style scoped>\n",
              "    .dataframe tbody tr th:only-of-type {\n",
              "        vertical-align: middle;\n",
              "    }\n",
              "\n",
              "    .dataframe tbody tr th {\n",
              "        vertical-align: top;\n",
              "    }\n",
              "\n",
              "    .dataframe thead th {\n",
              "        text-align: right;\n",
              "    }\n",
              "</style>\n",
              "<table border=\"1\" class=\"dataframe\">\n",
              "  <thead>\n",
              "    <tr style=\"text-align: right;\">\n",
              "      <th></th>\n",
              "      <th>product_category_tree</th>\n",
              "      <th>description</th>\n",
              "      <th>brand</th>\n",
              "    </tr>\n",
              "    <tr>\n",
              "      <th>product_name</th>\n",
              "      <th></th>\n",
              "      <th></th>\n",
              "      <th></th>\n",
              "    </tr>\n",
              "  </thead>\n",
              "  <tbody>\n",
              "    <tr>\n",
              "      <th>Four_Paws_Sweats_for_Cat,_Dog</th>\n",
              "      <td>[\"Pet Supplies &gt;&gt; Pet Apparel &gt;&gt; Four Paws Swe...</td>\n",
              "      <td>Four Paws Sweats for Cat, Dog,[\"Pet Supplies &gt;...</td>\n",
              "      <td>Four Paws</td>\n",
              "    </tr>\n",
              "    <tr>\n",
              "      <th>Magideal_Raincoat_for_Dog</th>\n",
              "      <td>[\"Pet Supplies &gt;&gt; Pet Apparel &gt;&gt; Magideal Rain...</td>\n",
              "      <td>Magideal Raincoat for Dog,[\"Pet Supplies &gt;&gt; Pe...</td>\n",
              "      <td>Magideal</td>\n",
              "    </tr>\n",
              "    <tr>\n",
              "      <th>Sicons_All_Purpose_Tea_Tree_Dog_Shampoo</th>\n",
              "      <td>[\"Pet Supplies &gt;&gt; Grooming &gt;&gt; Skin &amp; Coat Care...</td>\n",
              "      <td>Sicons All Purpose Tea Tree Dog Shampoo,[\"Pet ...</td>\n",
              "      <td>Sicons</td>\n",
              "    </tr>\n",
              "    <tr>\n",
              "      <th>Sicons_Conditioning_Conditoner_Dog_Shampoo</th>\n",
              "      <td>[\"Pet Supplies &gt;&gt; Grooming &gt;&gt; Skin &amp; Coat Care...</td>\n",
              "      <td>Sicons Conditioning Conditoner Dog Shampoo,[\"P...</td>\n",
              "      <td>Sicons</td>\n",
              "    </tr>\n",
              "    <tr>\n",
              "      <th>TRESemme_Naturals_Vibrantly_Smooth_Shampoo</th>\n",
              "      <td>[\"Baby Care &gt;&gt; Baby Bath &amp; Skin &gt;&gt; Baby Body W...</td>\n",
              "      <td>TRESemme Naturals Vibrantly Smooth Shampoo,[\"B...</td>\n",
              "      <td>TRESemme</td>\n",
              "    </tr>\n",
              "    <tr>\n",
              "      <th>Tosiba_Kadhai_500_ML</th>\n",
              "      <td>[\"Kitchen &amp; Dining &gt;&gt; Cookware &gt;&gt; Pots &amp; Pans ...</td>\n",
              "      <td>Tosiba Kadhai 500 ML,[\"Kitchen &amp; Dining &gt;&gt; Coo...</td>\n",
              "      <td>Tosiba</td>\n",
              "    </tr>\n",
              "  </tbody>\n",
              "</table>\n",
              "</div>"
            ],
            "text/plain": [
              "                                                                        product_category_tree  \\\n",
              "product_name                                                                                    \n",
              "Four_Paws_Sweats_for_Cat,_Dog               [\"Pet Supplies >> Pet Apparel >> Four Paws Swe...   \n",
              "Magideal_Raincoat_for_Dog                   [\"Pet Supplies >> Pet Apparel >> Magideal Rain...   \n",
              "Sicons_All_Purpose_Tea_Tree_Dog_Shampoo     [\"Pet Supplies >> Grooming >> Skin & Coat Care...   \n",
              "Sicons_Conditioning_Conditoner_Dog_Shampoo  [\"Pet Supplies >> Grooming >> Skin & Coat Care...   \n",
              "TRESemme_Naturals_Vibrantly_Smooth_Shampoo  [\"Baby Care >> Baby Bath & Skin >> Baby Body W...   \n",
              "Tosiba_Kadhai_500_ML                        [\"Kitchen & Dining >> Cookware >> Pots & Pans ...   \n",
              "\n",
              "                                                                                  description  \\\n",
              "product_name                                                                                    \n",
              "Four_Paws_Sweats_for_Cat,_Dog               Four Paws Sweats for Cat, Dog,[\"Pet Supplies >...   \n",
              "Magideal_Raincoat_for_Dog                   Magideal Raincoat for Dog,[\"Pet Supplies >> Pe...   \n",
              "Sicons_All_Purpose_Tea_Tree_Dog_Shampoo     Sicons All Purpose Tea Tree Dog Shampoo,[\"Pet ...   \n",
              "Sicons_Conditioning_Conditoner_Dog_Shampoo  Sicons Conditioning Conditoner Dog Shampoo,[\"P...   \n",
              "TRESemme_Naturals_Vibrantly_Smooth_Shampoo  TRESemme Naturals Vibrantly Smooth Shampoo,[\"B...   \n",
              "Tosiba_Kadhai_500_ML                        Tosiba Kadhai 500 ML,[\"Kitchen & Dining >> Coo...   \n",
              "\n",
              "                                                brand  \n",
              "product_name                                           \n",
              "Four_Paws_Sweats_for_Cat,_Dog               Four Paws  \n",
              "Magideal_Raincoat_for_Dog                    Magideal  \n",
              "Sicons_All_Purpose_Tea_Tree_Dog_Shampoo        Sicons  \n",
              "Sicons_Conditioning_Conditoner_Dog_Shampoo     Sicons  \n",
              "TRESemme_Naturals_Vibrantly_Smooth_Shampoo   TRESemme  \n",
              "Tosiba_Kadhai_500_ML                           Tosiba  "
            ]
          },
          "metadata": {
            "tags": []
          },
          "execution_count": 36
        }
      ]
    },
    {
      "metadata": {
        "id": "H1-rZl_g8m6U",
        "colab_type": "code",
        "colab": {
          "base_uri": "https://localhost:8080/",
          "height": 173
        },
        "outputId": "60582c92-e20e-4994-aa99-7e053a19280f"
      },
      "cell_type": "code",
      "source": [
        "recommendations('FabHomeDecor_Fabric_Double_Sofa_Bed')"
      ],
      "execution_count": 37,
      "outputs": [
        {
          "output_type": "execute_result",
          "data": {
            "text/html": [
              "<div>\n",
              "<style scoped>\n",
              "    .dataframe tbody tr th:only-of-type {\n",
              "        vertical-align: middle;\n",
              "    }\n",
              "\n",
              "    .dataframe tbody tr th {\n",
              "        vertical-align: top;\n",
              "    }\n",
              "\n",
              "    .dataframe thead th {\n",
              "        text-align: right;\n",
              "    }\n",
              "</style>\n",
              "<table border=\"1\" class=\"dataframe\">\n",
              "  <thead>\n",
              "    <tr style=\"text-align: right;\">\n",
              "      <th></th>\n",
              "      <th>product_category_tree</th>\n",
              "      <th>description</th>\n",
              "      <th>brand</th>\n",
              "    </tr>\n",
              "    <tr>\n",
              "      <th>product_name</th>\n",
              "      <th></th>\n",
              "      <th></th>\n",
              "      <th></th>\n",
              "    </tr>\n",
              "  </thead>\n",
              "  <tbody>\n",
              "    <tr>\n",
              "      <th>@home_Annulus_Solid_Wood_Dressing_Table</th>\n",
              "      <td>[\"Furniture &gt;&gt; Bedroom Furniture &gt;&gt; Dressing T...</td>\n",
              "      <td>@home Annulus Solid Wood Dressing Table,[\"Furn...</td>\n",
              "      <td>@home</td>\n",
              "    </tr>\n",
              "    <tr>\n",
              "      <th>Comfort_Couch_Engineered_Wood_3_Seater_Sofa</th>\n",
              "      <td>[\"Furniture &gt;&gt; Living Room Furniture &gt;&gt; Sofas ...</td>\n",
              "      <td>Comfort Couch Engineered Wood 3 Seater Sofa,[\"...</td>\n",
              "      <td>Comfort Couch</td>\n",
              "    </tr>\n",
              "    <tr>\n",
              "      <th>Ethnic_Handicrafts_Solid_Wood_Single_Bed</th>\n",
              "      <td>[\"Furniture &gt;&gt; Bedroom Furniture &gt;&gt; Beds &gt;&gt; Et...</td>\n",
              "      <td>Ethnic Handicrafts Solid Wood Single Bed,[\"Fur...</td>\n",
              "      <td>Ethnic Handicrafts</td>\n",
              "    </tr>\n",
              "  </tbody>\n",
              "</table>\n",
              "</div>"
            ],
            "text/plain": [
              "                                                                         product_category_tree  \\\n",
              "product_name                                                                                     \n",
              "@home_Annulus_Solid_Wood_Dressing_Table      [\"Furniture >> Bedroom Furniture >> Dressing T...   \n",
              "Comfort_Couch_Engineered_Wood_3_Seater_Sofa  [\"Furniture >> Living Room Furniture >> Sofas ...   \n",
              "Ethnic_Handicrafts_Solid_Wood_Single_Bed     [\"Furniture >> Bedroom Furniture >> Beds >> Et...   \n",
              "\n",
              "                                                                                   description  \\\n",
              "product_name                                                                                     \n",
              "@home_Annulus_Solid_Wood_Dressing_Table      @home Annulus Solid Wood Dressing Table,[\"Furn...   \n",
              "Comfort_Couch_Engineered_Wood_3_Seater_Sofa  Comfort Couch Engineered Wood 3 Seater Sofa,[\"...   \n",
              "Ethnic_Handicrafts_Solid_Wood_Single_Bed     Ethnic Handicrafts Solid Wood Single Bed,[\"Fur...   \n",
              "\n",
              "                                                          brand  \n",
              "product_name                                                     \n",
              "@home_Annulus_Solid_Wood_Dressing_Table                   @home  \n",
              "Comfort_Couch_Engineered_Wood_3_Seater_Sofa       Comfort Couch  \n",
              "Ethnic_Handicrafts_Solid_Wood_Single_Bed     Ethnic Handicrafts  "
            ]
          },
          "metadata": {
            "tags": []
          },
          "execution_count": 37
        }
      ]
    },
    {
      "metadata": {
        "id": "pGoDlm44-X2g",
        "colab_type": "code",
        "colab": {
          "base_uri": "https://localhost:8080/",
          "height": 235
        },
        "outputId": "2ed89a45-ebb6-4114-914c-7e14f1186ba8"
      },
      "cell_type": "code",
      "source": [
        "recommendations('Carrel_Printed_Women_s')"
      ],
      "execution_count": 45,
      "outputs": [
        {
          "output_type": "execute_result",
          "data": {
            "text/html": [
              "<div>\n",
              "<style scoped>\n",
              "    .dataframe tbody tr th:only-of-type {\n",
              "        vertical-align: middle;\n",
              "    }\n",
              "\n",
              "    .dataframe tbody tr th {\n",
              "        vertical-align: top;\n",
              "    }\n",
              "\n",
              "    .dataframe thead th {\n",
              "        text-align: right;\n",
              "    }\n",
              "</style>\n",
              "<table border=\"1\" class=\"dataframe\">\n",
              "  <thead>\n",
              "    <tr style=\"text-align: right;\">\n",
              "      <th></th>\n",
              "      <th>product_category_tree</th>\n",
              "      <th>description</th>\n",
              "      <th>brand</th>\n",
              "    </tr>\n",
              "    <tr>\n",
              "      <th>product_name</th>\n",
              "      <th></th>\n",
              "      <th></th>\n",
              "      <th></th>\n",
              "    </tr>\n",
              "  </thead>\n",
              "  <tbody>\n",
              "    <tr>\n",
              "      <th>BLM_Casual_Printed_Women_s_Kurti</th>\n",
              "      <td>[\"BLM Casual Printed Women's Kurti\"]</td>\n",
              "      <td>BLM Casual Printed Women's Kurti,[\"BLM Casual ...</td>\n",
              "      <td>BLM</td>\n",
              "    </tr>\n",
              "    <tr>\n",
              "      <th>Cation_Casual_3/4_Sleeve_Printed_Women_s_Top</th>\n",
              "      <td>[\"Clothing &gt;&gt; Women's Clothing &gt;&gt; Western Wear...</td>\n",
              "      <td>Cation Casual 3/4 Sleeve Printed Women's Top,[...</td>\n",
              "      <td></td>\n",
              "    </tr>\n",
              "    <tr>\n",
              "      <th>Co.in_Casual_Sleeveless_Printed_Women_s_Top</th>\n",
              "      <td>[\"Clothing &gt;&gt; Women's Clothing &gt;&gt; Western Wear...</td>\n",
              "      <td>Co.in Casual Sleeveless Printed Women's Top,[\"...</td>\n",
              "      <td></td>\n",
              "    </tr>\n",
              "    <tr>\n",
              "      <th>Oner_Casual_Short_Sleeve_Printed_Women_s_Top</th>\n",
              "      <td>[\"Clothing &gt;&gt; Women's Clothing &gt;&gt; Western Wear...</td>\n",
              "      <td>Oner Casual Short Sleeve Printed Women's Top,[...</td>\n",
              "      <td>Oner</td>\n",
              "    </tr>\n",
              "    <tr>\n",
              "      <th>Speedo_Endurance10+Raceback_Solid_Women_s</th>\n",
              "      <td>[\"Clothing &gt;&gt; Women's Clothing &gt;&gt; Sports &amp; Gym...</td>\n",
              "      <td>Speedo Endurance10+Raceback Solid Women's,[\"Cl...</td>\n",
              "      <td>Speedo</td>\n",
              "    </tr>\n",
              "  </tbody>\n",
              "</table>\n",
              "</div>"
            ],
            "text/plain": [
              "                                                                          product_category_tree  \\\n",
              "product_name                                                                                      \n",
              "BLM_Casual_Printed_Women_s_Kurti                           [\"BLM Casual Printed Women's Kurti\"]   \n",
              "Cation_Casual_3/4_Sleeve_Printed_Women_s_Top  [\"Clothing >> Women's Clothing >> Western Wear...   \n",
              "Co.in_Casual_Sleeveless_Printed_Women_s_Top   [\"Clothing >> Women's Clothing >> Western Wear...   \n",
              "Oner_Casual_Short_Sleeve_Printed_Women_s_Top  [\"Clothing >> Women's Clothing >> Western Wear...   \n",
              "Speedo_Endurance10+Raceback_Solid_Women_s     [\"Clothing >> Women's Clothing >> Sports & Gym...   \n",
              "\n",
              "                                                                                    description  \\\n",
              "product_name                                                                                      \n",
              "BLM_Casual_Printed_Women_s_Kurti              BLM Casual Printed Women's Kurti,[\"BLM Casual ...   \n",
              "Cation_Casual_3/4_Sleeve_Printed_Women_s_Top  Cation Casual 3/4 Sleeve Printed Women's Top,[...   \n",
              "Co.in_Casual_Sleeveless_Printed_Women_s_Top   Co.in Casual Sleeveless Printed Women's Top,[\"...   \n",
              "Oner_Casual_Short_Sleeve_Printed_Women_s_Top  Oner Casual Short Sleeve Printed Women's Top,[...   \n",
              "Speedo_Endurance10+Raceback_Solid_Women_s     Speedo Endurance10+Raceback Solid Women's,[\"Cl...   \n",
              "\n",
              "                                               brand  \n",
              "product_name                                          \n",
              "BLM_Casual_Printed_Women_s_Kurti                 BLM  \n",
              "Cation_Casual_3/4_Sleeve_Printed_Women_s_Top          \n",
              "Co.in_Casual_Sleeveless_Printed_Women_s_Top           \n",
              "Oner_Casual_Short_Sleeve_Printed_Women_s_Top    Oner  \n",
              "Speedo_Endurance10+Raceback_Solid_Women_s     Speedo  "
            ]
          },
          "metadata": {
            "tags": []
          },
          "execution_count": 45
        }
      ]
    },
    {
      "metadata": {
        "id": "9vavrewoAR2E",
        "colab_type": "code",
        "colab": {}
      },
      "cell_type": "code",
      "source": [
        ""
      ],
      "execution_count": 0,
      "outputs": []
    }
  ]
}